{
 "cells": [
  {
   "cell_type": "markdown",
   "metadata": {},
   "source": [
    "## Welcome to your third case study on Data Visualization \n",
    "- In this task you will asked to draw few plots on the weather data you scraped earlier.\n",
    "- The data is provided in the data.csv file in the current working directory.\n",
    "- You will be specifically using seaborn package to draw the plots.\n",
    "- Your plots must match with the expected plots provided in each task. \n",
    "\n",
    "### For each of the plot assign the plot object to variables mentioned in the comments.\n",
    "    - for example if your drawing a scatter plot \n",
    "```python\n",
    "plot_var = seaborn.scatter()\n",
    "```"
   ]
  },
  {
   "cell_type": "markdown",
   "metadata": {},
   "source": [
    "### Run the below cell to import the necessary packages."
   ]
  },
  {
   "cell_type": "code",
   "execution_count": null,
   "metadata": {},
   "outputs": [],
   "source": [
    "import pandas as pd\n",
    "import seaborn as sns\n",
    "import matplotlib.pyplot as plt\n",
    "import warnings\n",
    "warnings.filterwarnings('ignore')"
   ]
  },
  {
   "cell_type": "code",
   "execution_count": null,
   "metadata": {},
   "outputs": [],
   "source": [
    "###Read the dataset form data.csv file\n",
    "\n"
   ]
  },
  {
   "cell_type": "markdown",
   "metadata": {},
   "source": [
    "### Draw a box plot on the  average_temperature column across each year.\n",
    "    - use seaborn.boxplot()\n",
    "    - set the height and width to 8 and 15 repectively.\n",
    "    - assign the plot object to variable plot1.\n",
    "    \n",
    "### Expected plot\n",
    "<img src=\"plots/box_plot.png\">"
   ]
  },
  {
   "cell_type": "code",
   "execution_count": null,
   "metadata": {},
   "outputs": [],
   "source": [
    "### Start code here\n",
    "\n",
    "\n",
    "\n",
    "\n"
   ]
  },
  {
   "cell_type": "markdown",
   "metadata": {},
   "source": [
    "### Draw correlation heatmap for all the available features.\n",
    "    - make sure the correlation values are annoted for each combination of features.\n",
    "    - assign the plot object to variable plot2\n",
    "### Expected plot\n",
    "<img src=\"plots/corr_plot.png\">"
   ]
  },
  {
   "cell_type": "code",
   "execution_count": null,
   "metadata": {},
   "outputs": [],
   "source": [
    "###Start code here\n",
    "\n",
    "\n",
    "\n",
    "\n"
   ]
  },
  {
   "cell_type": "markdown",
   "metadata": {},
   "source": [
    "Draw a distribution plot using seaborn for average_temperature column.\n",
    "   - set bins to 20\n",
    "   - set the height and width to 8,8.\n",
    "   - assign the plot object to plot3 variable\n",
    "\n",
    "### Expected plot\n",
    "<img src=\"plots/hist_plot.png\">"
   ]
  },
  {
   "cell_type": "code",
   "execution_count": null,
   "metadata": {},
   "outputs": [],
   "source": [
    "###Start code here\n",
    "\n",
    "\n",
    "\n",
    "\n"
   ]
  },
  {
   "cell_type": "markdown",
   "metadata": {},
   "source": [
    "### Draw seaborn violin plot on mximum_pressure column.\n",
    "    - set gridsize to 100\n",
    "    - set figsize to 8,8\n",
    "    - assign the plot object to variable plot4\n",
    "\n",
    "### Expected plot\n",
    "<img src=\"plots/violin_plot.png\">"
   ]
  },
  {
   "cell_type": "code",
   "execution_count": null,
   "metadata": {},
   "outputs": [],
   "source": [
    "###Start code here\n",
    "\n",
    "\n",
    "\n",
    "\n",
    "\n"
   ]
  },
  {
   "cell_type": "markdown",
   "metadata": {},
   "source": [
    "### Run the below cell to save your plot objects."
   ]
  },
  {
   "cell_type": "code",
   "execution_count": null,
   "metadata": {},
   "outputs": [],
   "source": [
    "import pickle\n",
    "with open(\"plot1.pickle\", \"wb\") as file:\n",
    "    pickle.dump(plot1, file)\n",
    "\n",
    "with open(\"plot2.pickle\", \"wb\") as file:\n",
    "    pickle.dump(plot2, file)\n",
    "\n",
    "with open(\"plot3.pickle\", \"wb\") as file:\n",
    "    pickle.dump(plot3, file)\n",
    "\n",
    "with open(\"plot4.pickle\", \"wb\") as file:\n",
    "    pickle.dump(plot4, file)"
   ]
  }
 ],
 "metadata": {
  "kernelspec": {
   "display_name": "Python 3",
   "language": "python",
   "name": "python3"
  },
  "language_info": {
   "codemirror_mode": {
    "name": "ipython",
    "version": 3
   },
   "file_extension": ".py",
   "mimetype": "text/x-python",
   "name": "python",
   "nbconvert_exporter": "python",
   "pygments_lexer": "ipython3",
   "version": "3.6.5"
  }
 },
 "nbformat": 4,
 "nbformat_minor": 2
}